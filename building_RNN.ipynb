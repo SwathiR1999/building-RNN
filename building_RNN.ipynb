{
  "nbformat": 4,
  "nbformat_minor": 0,
  "metadata": {
    "colab": {
      "provenance": [],
      "authorship_tag": "ABX9TyOL+MekNQLRVklvlHyd8kbD",
      "include_colab_link": true
    },
    "kernelspec": {
      "name": "python3",
      "display_name": "Python 3"
    },
    "language_info": {
      "name": "python"
    }
  },
  "cells": [
    {
      "cell_type": "markdown",
      "metadata": {
        "id": "view-in-github",
        "colab_type": "text"
      },
      "source": [
        "<a href=\"https://colab.research.google.com/github/SwathiR1999/building-RNN/blob/main/building_RNN.ipynb\" target=\"_parent\"><img src=\"https://colab.research.google.com/assets/colab-badge.svg\" alt=\"Open In Colab\"/></a>"
      ]
    },
    {
      "cell_type": "code",
      "execution_count": 1,
      "metadata": {
        "id": "YIC54pnyFnWJ",
        "colab": {
          "base_uri": "https://localhost:8080/"
        },
        "outputId": "a7992604-13dc-4ec5-d802-f7e3acd42ffa"
      },
      "outputs": [
        {
          "output_type": "stream",
          "name": "stdout",
          "text": [
            "Cloning into 'building-RNN'...\n",
            "remote: Enumerating objects: 4, done.\u001b[K\n",
            "remote: Counting objects: 100% (4/4), done.\u001b[K\n",
            "remote: Compressing objects: 100% (4/4), done.\u001b[K\n",
            "remote: Total 4 (delta 0), reused 0 (delta 0), pack-reused 0\u001b[K\n",
            "Receiving objects: 100% (4/4), 23.78 KiB | 624.00 KiB/s, done.\n",
            "/content/building-RNN\n",
            "Google_Stock_Price_Test.csv  Google_Stock_Price_Train.csv\n",
            "Already up to date.\n"
          ]
        }
      ],
      "source": [
        "! git clone https://github.com/SwathiR1999/building-RNN.git\n",
        "%cd building-RNN\n",
        "!ls\n",
        "! git pull"
      ]
    },
    {
      "cell_type": "markdown",
      "source": [
        "# Importing libraries"
      ],
      "metadata": {
        "id": "WGa_CYSEKwx3"
      }
    },
    {
      "cell_type": "code",
      "source": [
        "import numpy as np\n",
        "import pandas as pd\n",
        "import matplotlib.pyplot as plt"
      ],
      "metadata": {
        "id": "-FIIJQ2EKtbI"
      },
      "execution_count": 2,
      "outputs": []
    },
    {
      "cell_type": "markdown",
      "source": [
        "# Importing datasets"
      ],
      "metadata": {
        "id": "pVjCh6W-LnlR"
      }
    },
    {
      "cell_type": "code",
      "source": [
        "df_train=pd.read_csv('Google_Stock_Price_Train.csv')\n",
        "train_set=df_train.iloc[:,1:2].values"
      ],
      "metadata": {
        "id": "NH2qE0gNLmnJ"
      },
      "execution_count": 3,
      "outputs": []
    },
    {
      "cell_type": "markdown",
      "source": [
        "# Feature Scaling"
      ],
      "metadata": {
        "id": "KBUWPU0SOnH0"
      }
    },
    {
      "cell_type": "code",
      "source": [
        "from sklearn.preprocessing import MinMaxScaler\n",
        "scaler = MinMaxScaler(feature_range=(0,1))\n",
        "train_set_scaled = scaler.fit_transform(train_set)"
      ],
      "metadata": {
        "id": "-ZNm3NVXOrN0"
      },
      "execution_count": 4,
      "outputs": []
    },
    {
      "cell_type": "markdown",
      "source": [
        "# Creating a data structure with 60 timesteps and 1 output"
      ],
      "metadata": {
        "id": "ZgG7bte-QaR2"
      }
    },
    {
      "cell_type": "code",
      "source": [
        "x_train = []\n",
        "y_train = []\n",
        "for i in range(60,1258):\n",
        "  x_train.append(train_set_scaled[i-60:i,0])\n",
        "  y_train.append(train_set_scaled[i,0])\n",
        "x_train,y_train=np.array(x_train), np.array(y_train)"
      ],
      "metadata": {
        "id": "Vc5-eFHHQov-"
      },
      "execution_count": 5,
      "outputs": []
    },
    {
      "cell_type": "markdown",
      "source": [
        "# Reshaping"
      ],
      "metadata": {
        "id": "cs3Y7P-WjRQ-"
      }
    },
    {
      "cell_type": "code",
      "source": [
        "x_train=np.reshape(x_train,(x_train.shape[0],x_train.shape[1],1))"
      ],
      "metadata": {
        "id": "62ofco4IjZK6"
      },
      "execution_count": 6,
      "outputs": []
    },
    {
      "cell_type": "code",
      "source": [],
      "metadata": {
        "id": "NOVMcn2XjWp7"
      },
      "execution_count": null,
      "outputs": []
    }
  ]
}